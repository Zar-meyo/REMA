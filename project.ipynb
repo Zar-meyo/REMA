{
 "cells": [
  {
   "metadata": {
    "ExecuteTime": {
     "end_time": "2024-07-07T17:57:47.015194Z",
     "start_time": "2024-07-07T17:57:46.465533Z"
    }
   },
   "cell_type": "code",
   "source": [
    "import pandas as pd\n",
    "import matplotlib.pyplot as plt\n",
    "\n",
    "from sklearn.preprocessing import MultiLabelBinarizer, StandardScaler\n",
    "from sklearn.neighbors import NearestNeighbors\n",
    "\n",
    "from surprise import Dataset, Reader, SVD, accuracy\n",
    "from surprise.model_selection import train_test_split"
   ],
   "id": "bf372b8f26a3dc6a",
   "outputs": [],
   "execution_count": 65
  },
  {
   "metadata": {},
   "cell_type": "markdown",
   "source": "# Charger les données",
   "id": "fcd4dba8859942c3"
  },
  {
   "metadata": {
    "ExecuteTime": {
     "end_time": "2024-07-07T17:19:31.381127Z",
     "start_time": "2024-07-07T17:19:31.378471Z"
    }
   },
   "cell_type": "code",
   "source": [
    "movielens_data_dir = \"data/ml-1m\"  # Dossier qui contient movie.dat et ratings.dat du movieLens dataset.\n",
    "imdb_dir = \"data/imdb\"  # Dossier qui contient name.basics.tsv.gz, title.basics.tsv.gz et title.ratings.tsv.gz"
   ],
   "id": "9b8c8daacc8b1144",
   "outputs": [],
   "execution_count": 2
  },
  {
   "metadata": {
    "ExecuteTime": {
     "end_time": "2024-07-07T17:19:31.717676Z",
     "start_time": "2024-07-07T17:19:31.713644Z"
    }
   },
   "cell_type": "code",
   "source": [
    "def load_data(movielens_data_dir, imdb_dir):\n",
    "    movies = pd.read_csv(f'{movielens_data_dir}/movies.dat', sep='::', header=None, engine='python',\n",
    "                         encoding='windows-1252')\n",
    "    movies.columns = ['movie_id', 'title', 'genres']\n",
    "    ratings = pd.read_csv(f'{movielens_data_dir}/ratings.dat', sep='::', header=None, engine='python',\n",
    "                          encoding='windows-1252')\n",
    "    ratings.columns = ['user_id', 'movie_id', 'rating', 'timestamp']\n",
    "\n",
    "    name_basics = pd.read_csv(f\"{imdb_dir}/name.basics.tsv.gz\", sep='\\t', na_values='\\\\N')\n",
    "    title_basics = pd.read_csv(f\"{imdb_dir}/title.basics.tsv.gz\", sep='\\t', low_memory=False, na_values='\\\\N')\n",
    "    title_ratings = pd.read_csv(f\"{imdb_dir}/title.ratings.tsv.gz\", sep='\\t', na_values='\\\\N')\n",
    "\n",
    "    return movies, ratings, name_basics, title_basics, title_ratings"
   ],
   "id": "735849b41bd99db3",
   "outputs": [],
   "execution_count": 3
  },
  {
   "metadata": {
    "ExecuteTime": {
     "end_time": "2024-07-07T17:20:17.046111Z",
     "start_time": "2024-07-07T17:19:32.553335Z"
    }
   },
   "cell_type": "code",
   "source": "datas = load_data(movielens_data_dir, imdb_dir)",
   "id": "e8771ce9130b7342",
   "outputs": [],
   "execution_count": 4
  },
  {
   "metadata": {},
   "cell_type": "markdown",
   "source": "# Fusion des datasets",
   "id": "383ee94302817d2c"
  },
  {
   "metadata": {
    "ExecuteTime": {
     "end_time": "2024-07-07T17:20:17.053576Z",
     "start_time": "2024-07-07T17:20:17.047540Z"
    }
   },
   "cell_type": "code",
   "source": [
    "def merge_data_knn(data):\n",
    "    movies, ratings, name_basics, title_basics, title_ratings = data\n",
    "\n",
    "    # Extraction de l'année de sorties du film depuis le  titre\n",
    "    movies['year'] = movies['title'].str.extract(r'\\((\\d{4})\\)').astype(int)\n",
    "    movies['title_reco'] = movies['title'].str.replace(r'\\(\\d{4}\\)', '', regex=True).str.strip()\n",
    "\n",
    "    # Fusion des données sur les films entre movieLens et IMDB\n",
    "    merged_data = pd.merge(movies, title_basics, left_on=['title_reco', 'year'], right_on=['primaryTitle', 'startYear'],\n",
    "                           how='inner')\n",
    "\n",
    "    # Ajout des informations sur l'équipe ayant participés à la réalisation des films\n",
    "    name_basics_ext = name_basics.assign(knownForTitles=name_basics['knownForTitles'].str.split(',')).explode(\n",
    "        'knownForTitles')\n",
    "    merged_df = merged_data.merge(name_basics_ext, left_on='tconst', right_on='knownForTitles', how='left')\n",
    "    result = merged_df.groupby(['movie_id', 'tconst']).agg({\n",
    "        'primaryName': lambda x: ', '.join(x.dropna().unique())\n",
    "    }).reset_index()\n",
    "    merged_data = merged_data.merge(result[['tconst', 'primaryName']], on='tconst', how='left')\n",
    "    merged_data.rename(columns={'primaryName': 'crew'}, inplace=True)\n",
    "\n",
    "    # Suppresion des colonnes/lignes qui ne serviront pas dans notre système de recommandation\n",
    "    merged_data.drop(merged_data[merged_data['titleType'] != 'movie'].index, inplace=True)\n",
    "    merged_data.drop(\n",
    "        ['endYear', 'startYear', 'title', 'genres_x', 'titleType', 'primaryTitle', 'originalTitle'],\n",
    "        axis=1, inplace=True)\n",
    "\n",
    "    # Nettoyage des données sur le genre et le crew pour créer une liste\n",
    "    merged_data['crew'] = merged_data['crew'].str.split(',')\n",
    "    merged_data['genres'] = merged_data['genres_y'].str.split(',')\n",
    "    merged_data.drop(['genres_y'], axis=1, inplace=True)\n",
    "    merged_data = merged_data[merged_data['genres'].apply(lambda x: isinstance(x, list))]\n",
    "\n",
    "    return merged_data"
   ],
   "id": "7e0a6c75af972e74",
   "outputs": [],
   "execution_count": 5
  },
  {
   "metadata": {
    "ExecuteTime": {
     "end_time": "2024-07-07T17:20:17.057983Z",
     "start_time": "2024-07-07T17:20:17.053576Z"
    }
   },
   "cell_type": "code",
   "source": [
    "def merge_data_ratings(data):\n",
    "    movies, ratings, name_basics, title_basics, title_ratings = data\n",
    "\n",
    "    # Extraction de l'année de sorties du film depuis le  titre\n",
    "    movies['title_reco'] = movies['title'].str.replace(r'\\(\\d{4}\\)', '', regex=True).str.strip()\n",
    "\n",
    "    # Fusion des données sur les films entre movieLens et IMDB\n",
    "    merged_data = pd.merge(movies, title_basics, left_on=['title_reco', 'year'], right_on=['primaryTitle', 'startYear'],\n",
    "                           how='inner')\n",
    "\n",
    "    # Ajout des informations de notes\n",
    "    merged_data = pd.merge(merged_data, ratings, on='movie_id')\n",
    "    merged_data = pd.merge(merged_data, title_ratings, on='tconst', how='left')\n",
    "    merged_data.drop('timestamp', axis=1, inplace=True)\n",
    "\n",
    "    # nettoyage de la note moyenne du film, on met la moyenne si la donnée n'est pas présente\n",
    "    merged_data['averageRating'] = merged_data['averageRating'].fillna(merged_data['averageRating'].mean())\n",
    "    merged_data.drop(merged_data[merged_data['titleType'] != 'movie'].index, inplace=True)\n",
    "    selected_col = ['movie_id', 'title', 'tconst', 'user_id', 'rating', 'averageRating']\n",
    "    merged_data = merged_data[selected_col]\n",
    "\n",
    "    return merged_data"
   ],
   "id": "19d746aae5eaf382",
   "outputs": [],
   "execution_count": 6
  },
  {
   "metadata": {},
   "cell_type": "markdown",
   "source": "# KNN",
   "id": "8cc8b5787432980c"
  },
  {
   "metadata": {
    "ExecuteTime": {
     "end_time": "2024-07-07T17:20:59.590211Z",
     "start_time": "2024-07-07T17:20:17.058991Z"
    }
   },
   "cell_type": "code",
   "source": [
    "# On récupère ici les données avec les informations sur les films sans informations sur les notes\n",
    "datas_knn = merge_data_knn(datas)"
   ],
   "id": "5d735e5f8695c699",
   "outputs": [],
   "execution_count": 7
  },
  {
   "metadata": {
    "ExecuteTime": {
     "end_time": "2024-07-07T17:20:59.607297Z",
     "start_time": "2024-07-07T17:20:59.593219Z"
    }
   },
   "cell_type": "code",
   "source": [
    "# Les genres étant en liste, on rajoute une colonne pour chaque genre, avec '1' si le film est de ce genre, '0' sinon\n",
    "mlb = MultiLabelBinarizer()\n",
    "genres_encoded = mlb.fit_transform(datas_knn['genres'])\n",
    "genres_df = pd.DataFrame(genres_encoded, columns=mlb.classes_)\n",
    "datas_knn = datas_knn.join(genres_df)"
   ],
   "id": "b1566d2180fdb883",
   "outputs": [],
   "execution_count": 8
  },
  {
   "metadata": {
    "ExecuteTime": {
     "end_time": "2024-07-07T17:20:59.612708Z",
     "start_time": "2024-07-07T17:20:59.608307Z"
    }
   },
   "cell_type": "code",
   "source": "datas_knn['crew_size'] = datas_knn['crew'].apply(lambda x: len(x))",
   "id": "6b3976d546010e96",
   "outputs": [],
   "execution_count": 9
  },
  {
   "metadata": {
    "ExecuteTime": {
     "end_time": "2024-07-07T17:20:59.620149Z",
     "start_time": "2024-07-07T17:20:59.613719Z"
    }
   },
   "cell_type": "code",
   "source": [
    "numerical_cols = ['year', 'isAdult', 'runtimeMinutes', 'crew_size']\n",
    "datas_knn[numerical_cols] = datas_knn[numerical_cols].apply(pd.to_numeric)"
   ],
   "id": "b253d35f11be4679",
   "outputs": [],
   "execution_count": 10
  },
  {
   "metadata": {
    "ExecuteTime": {
     "end_time": "2024-07-07T17:20:59.631764Z",
     "start_time": "2024-07-07T17:20:59.621160Z"
    }
   },
   "cell_type": "code",
   "source": [
    "scaler = StandardScaler()\n",
    "datas_knn[numerical_cols] = scaler.fit_transform(datas_knn[numerical_cols])\n",
    "datas_knn.fillna(0, inplace=True)"
   ],
   "id": "b206177083ff514c",
   "outputs": [],
   "execution_count": 11
  },
  {
   "metadata": {
    "ExecuteTime": {
     "end_time": "2024-07-07T17:20:59.635353Z",
     "start_time": "2024-07-07T17:20:59.632773Z"
    }
   },
   "cell_type": "code",
   "source": "feature_cols = numerical_cols + list(mlb.classes_)",
   "id": "a1499ae741f1c7d2",
   "outputs": [],
   "execution_count": 12
  },
  {
   "metadata": {},
   "cell_type": "code",
   "source": [
    "knn = NearestNeighbors(n_neighbors=10, algorithm='auto')\n",
    "knn.fit(datas_knn[feature_cols])"
   ],
   "id": "cd3e33e7476668b2",
   "outputs": [],
   "execution_count": null
  },
  {
   "metadata": {
    "ExecuteTime": {
     "end_time": "2024-07-07T17:20:59.653553Z",
     "start_time": "2024-07-07T17:20:59.649166Z"
    }
   },
   "cell_type": "code",
   "source": [
    "test = pd.DataFrame(datas_knn[feature_cols].iloc[0].values.reshape(1, -1))\n",
    "test.columns = datas_knn[feature_cols].columns"
   ],
   "id": "8f728901b34cb4da",
   "outputs": [],
   "execution_count": 14
  },
  {
   "metadata": {
    "ExecuteTime": {
     "end_time": "2024-07-07T17:20:59.807205Z",
     "start_time": "2024-07-07T17:20:59.654562Z"
    }
   },
   "cell_type": "code",
   "source": "distances, indices = knn.kneighbors(test, n_neighbors=5)",
   "id": "7dd0128b2e2ea0e2",
   "outputs": [],
   "execution_count": 15
  },
  {
   "metadata": {
    "ExecuteTime": {
     "end_time": "2024-07-07T17:20:59.811464Z",
     "start_time": "2024-07-07T17:20:59.808211Z"
    }
   },
   "cell_type": "code",
   "source": [
    "print(\"The 5 movies most similar to '{}' are:\".format(datas_knn['title_reco'].iloc[0]))\n",
    "for i in indices[0]:\n",
    "    print(datas_knn['title_reco'].iloc[i])"
   ],
   "id": "26aa4b2171d5cba4",
   "outputs": [
    {
     "name": "stdout",
     "output_type": "stream",
     "text": [
      "The 5 movies most similar to 'Toy Story' are:\n",
      "Toy Story\n",
      "Agnes Browne\n",
      "Matilda\n",
      "Sirens\n",
      "Teaching Mrs. Tingle\n"
     ]
    }
   ],
   "execution_count": 16
  },
  {
   "metadata": {},
   "cell_type": "markdown",
   "source": "# Filtrage collaboratif",
   "id": "12183cf74b278d72"
  },
  {
   "metadata": {
    "ExecuteTime": {
     "end_time": "2024-07-07T17:21:10.155349Z",
     "start_time": "2024-07-07T17:21:04.417809Z"
    }
   },
   "cell_type": "code",
   "source": "collab_datas = merge_data_ratings(datas)",
   "id": "8f6b12535edaf663",
   "outputs": [],
   "execution_count": 17
  },
  {
   "metadata": {
    "ExecuteTime": {
     "end_time": "2024-07-07T17:21:13.680863Z",
     "start_time": "2024-07-07T17:21:12.484833Z"
    }
   },
   "cell_type": "code",
   "source": [
    "reader = Reader(rating_scale=(0.5, 5.0))\n",
    "data = Dataset.load_from_df(collab_datas[['user_id', 'movie_id', 'rating']], reader)\n",
    "\n",
    "trainset, testset = train_test_split(data, test_size=0.2)\n",
    "\n",
    "model_collaborative = SVD()"
   ],
   "id": "e3ed07ef3800b17c",
   "outputs": [],
   "execution_count": 18
  },
  {
   "metadata": {
    "ExecuteTime": {
     "end_time": "2024-07-07T17:22:52.925532Z",
     "start_time": "2024-07-07T17:22:46.961133Z"
    }
   },
   "cell_type": "code",
   "source": "model_collaborative.fit(trainset)",
   "id": "e7671f7f69f71ec1",
   "outputs": [
    {
     "data": {
      "text/plain": [
       "<surprise.prediction_algorithms.matrix_factorization.SVD at 0x2716146d8e0>"
      ]
     },
     "execution_count": 19,
     "metadata": {},
     "output_type": "execute_result"
    }
   ],
   "execution_count": 19
  },
  {
   "metadata": {
    "ExecuteTime": {
     "end_time": "2024-07-07T17:24:02.003339Z",
     "start_time": "2024-07-07T17:24:01.366692Z"
    }
   },
   "cell_type": "code",
   "source": [
    "predictions = model_collaborative.test(testset)\n",
    "\n",
    "rmse = accuracy.rmse(predictions)"
   ],
   "id": "dcd387b9d15c12c3",
   "outputs": [
    {
     "name": "stdout",
     "output_type": "stream",
     "text": [
      "RMSE: 0.8788\n"
     ]
    }
   ],
   "execution_count": 24
  },
  {
   "metadata": {},
   "cell_type": "markdown",
   "source": "# Système de recommandation",
   "id": "bde82b6ba078aac9"
  },
  {
   "metadata": {
    "ExecuteTime": {
     "end_time": "2024-07-07T17:54:18.671931Z",
     "start_time": "2024-07-07T17:54:18.666459Z"
    }
   },
   "cell_type": "code",
   "source": [
    "def hybrid_recommendations(user1_id, user2_id, top_n=10, w1=0.5, w2=0.5):\n",
    "    # Liste des films vus par chaque utilisateur\n",
    "    user1_seen = collab_datas[collab_datas['user_id'] == user1_id]['movie_id'].unique()\n",
    "    user2_seen = collab_datas[collab_datas['user_id'] == user2_id]['movie_id'].unique()\n",
    "\n",
    "    # Films non vus par les deux utilisateurs\n",
    "    all_movies = collab_datas['movie_id'].unique()\n",
    "    unseen_movies = set(all_movies) - set(user1_seen) - set(user2_seen)\n",
    "\n",
    "    # Recommandations basées sur la similarité de contenu\n",
    "    content_recommendations = []\n",
    "    for movie_id in unseen_movies:\n",
    "        test = pd.DataFrame(datas_knn[feature_cols].loc[datas_knn['movie_id'] == movie_id][feature_cols].iloc[0].values.reshape(1, -1))\n",
    "        \n",
    "        test.columns = datas_knn[feature_cols].columns\n",
    "        distances, indices = knn.kneighbors(test, n_neighbors= top_n)\n",
    "\n",
    "        avg_content_score = sum(1 - distances.flatten()) / len(distances.flatten())\n",
    "        content_recommendations.append((movie_id, avg_content_score))\n",
    "\n",
    "    # Recommandations collaboratives\n",
    "    collaborative_recommendations = []\n",
    "    for movie_id in unseen_movies:\n",
    "        pred_user1 = model_collaborative.predict(user1_id, movie_id).est\n",
    "        pred_user2 = model_collaborative.predict(user2_id, movie_id).est\n",
    "        avg_collaborative_score = (pred_user1 + pred_user2) / 2\n",
    "        collaborative_recommendations.append((movie_id, avg_collaborative_score))\n",
    "\n",
    "    # Combinaison des scores\n",
    "    hybrid_scores = []\n",
    "    for i in range(len(unseen_movies)):\n",
    "        movie_id = list(unseen_movies)[i]\n",
    "        content_score = next((score for mid, score in content_recommendations if mid == movie_id), 0)\n",
    "        collaborative_score = next((score for mid, score in collaborative_recommendations if mid == movie_id), 0)\n",
    "        hybrid_score = w1 * content_score + w2 * collaborative_score\n",
    "        hybrid_scores.append((movie_id, hybrid_score))\n",
    "\n",
    "    # Trier les films par score hybride\n",
    "    hybrid_scores.sort(key=lambda x: x[1], reverse=True)\n",
    "\n",
    "    recommended_movies = [(datas_knn[datas_knn['movie_id'] == movie_id]['title_reco'].values[0], score) for movie_id, score in hybrid_scores[:top_n]]\n",
    "\n",
    "    return recommended_movies"
   ],
   "id": "f41addf2ae87e86d",
   "outputs": [],
   "execution_count": 61
  },
  {
   "metadata": {
    "ExecuteTime": {
     "end_time": "2024-07-07T17:57:33.665314Z",
     "start_time": "2024-07-07T17:57:26.405963Z"
    }
   },
   "cell_type": "code",
   "source": [
    "user1_id = 1\n",
    "user2_id = 2\n",
    "recommendations = hybrid_recommendations(user1_id, user2_id)"
   ],
   "id": "d913f6de66a958e1",
   "outputs": [],
   "execution_count": 63
  },
  {
   "metadata": {
    "ExecuteTime": {
     "end_time": "2024-07-07T18:01:31.722739Z",
     "start_time": "2024-07-07T18:01:31.649176Z"
    }
   },
   "cell_type": "code",
   "source": [
    "titles = [movie[0] for movie in recommendations]\n",
    "scores = [movie[1] for movie in recommendations]\n",
    "\n",
    "# Plotting\n",
    "plt.figure(figsize=(10, 6))\n",
    "plt.barh(titles, scores)\n",
    "plt.xlabel('Score')\n",
    "plt.title('Recommended Movies and Their Scores')\n",
    "plt.gca().invert_yaxis()  # Invert y-axis to display highest score at the top\n",
    "plt.show()"
   ],
   "id": "5f33ac9846501576",
   "outputs": [
    {
     "data": {
      "text/plain": [
       "<Figure size 1000x600 with 1 Axes>"
      ],
      "image/png": "[encoded data removed]"
     },
     "metadata": {},
     "output_type": "display_data"
    }
   ],
   "execution_count": 71
  },
  {
   "metadata": {},
   "cell_type": "code",
   "outputs": [],
   "execution_count": null,
   "source": "",
   "id": "b653ad36f750df20"
  }
 ],
 "metadata": {
  "kernelspec": {
   "display_name": "Python 3",
   "language": "python",
   "name": "python3"
  },
  "language_info": {
   "codemirror_mode": {
    "name": "ipython",
    "version": 2
   },
   "file_extension": ".py",
   "mimetype": "text/x-python",
   "name": "python",
   "nbconvert_exporter": "python",
   "pygments_lexer": "ipython2",
   "version": "2.7.6"
  }
 },
 "nbformat": 4,
 "nbformat_minor": 5
}
